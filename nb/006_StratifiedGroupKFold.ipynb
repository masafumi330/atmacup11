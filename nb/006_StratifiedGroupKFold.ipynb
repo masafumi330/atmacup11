{
 "cells": [
  {
   "cell_type": "code",
   "execution_count": null,
   "metadata": {
    "colab": {
     "base_uri": "https://localhost:8080/"
    },
    "executionInfo": {
     "elapsed": 3053,
     "status": "ok",
     "timestamp": 1625981917032,
     "user": {
      "displayName": "三澤雅史",
      "photoUrl": "https://lh3.googleusercontent.com/a-/AOh14Gh_ehYwgZ7vTk5mpLIwi2U7OWqeVT9fXZpVW5UgCQ=s64",
      "userId": "14592835272630790536"
     },
     "user_tz": -540
    },
    "id": "CAbIVHPXEr0r",
    "outputId": "f62654e0-6faf-4c0d-e44f-c4399d50c592"
   },
   "outputs": [
    {
     "name": "stdout",
     "output_type": "stream",
     "text": [
      "Looking in indexes: https://pypi.org/simple, https://pypi.anaconda.org/scipy-wheels-nightly/simple\n",
      "Requirement already satisfied: scikit-learn in /usr/local/lib/python3.7/dist-packages (0.22.2.post1)\n",
      "Requirement already satisfied: joblib>=0.11 in /usr/local/lib/python3.7/dist-packages (from scikit-learn) (1.0.1)\n",
      "Requirement already satisfied: scipy>=0.17.0 in /usr/local/lib/python3.7/dist-packages (from scikit-learn) (1.4.1)\n",
      "Requirement already satisfied: numpy>=1.11.0 in /usr/local/lib/python3.7/dist-packages (from scikit-learn) (1.19.5)\n"
     ]
    }
   ],
   "source": [
    "!pip install --pre --extra-index https://pypi.anaconda.org/scipy-wheels-nightly/simple scikit-learn"
   ]
  },
  {
   "cell_type": "code",
   "execution_count": null,
   "metadata": {
    "colab": {
     "base_uri": "https://localhost:8080/"
    },
    "executionInfo": {
     "elapsed": 18636,
     "status": "ok",
     "timestamp": 1625982066736,
     "user": {
      "displayName": "三澤雅史",
      "photoUrl": "https://lh3.googleusercontent.com/a-/AOh14Gh_ehYwgZ7vTk5mpLIwi2U7OWqeVT9fXZpVW5UgCQ=s64",
      "userId": "14592835272630790536"
     },
     "user_tz": -540
    },
    "id": "F7Vll11KFPBd",
    "outputId": "3fc6b2a6-3748-4fd4-d2bd-46c798a4cdd6"
   },
   "outputs": [
    {
     "name": "stdout",
     "output_type": "stream",
     "text": [
      "Cloning into 'scikit-learn'...\n",
      "remote: Enumerating objects: 198843, done.\u001b[K\n",
      "remote: Counting objects: 100% (1174/1174), done.\u001b[K\n",
      "remote: Compressing objects: 100% (756/756), done.\u001b[K\n",
      "remote: Total 198843 (delta 598), reused 799 (delta 417), pack-reused 197669\u001b[K\n",
      "Receiving objects: 100% (198843/198843), 123.42 MiB | 25.25 MiB/s, done.\n",
      "Resolving deltas: 100% (150045/150045), done.\n"
     ]
    }
   ],
   "source": [
    "!git clone git://github.com/scikit-learn/scikit-learn.git"
   ]
  },
  {
   "cell_type": "code",
   "execution_count": null,
   "metadata": {
    "colab": {
     "base_uri": "https://localhost:8080/"
    },
    "executionInfo": {
     "elapsed": 305,
     "status": "ok",
     "timestamp": 1625982115345,
     "user": {
      "displayName": "三澤雅史",
      "photoUrl": "https://lh3.googleusercontent.com/a-/AOh14Gh_ehYwgZ7vTk5mpLIwi2U7OWqeVT9fXZpVW5UgCQ=s64",
      "userId": "14592835272630790536"
     },
     "user_tz": -540
    },
    "id": "L4mOT6A-Fc05",
    "outputId": "602c4456-fa09-4fda-ccb2-0230888398ae"
   },
   "outputs": [
    {
     "name": "stdout",
     "output_type": "stream",
     "text": [
      "/content/scikit-learn\n"
     ]
    }
   ],
   "source": [
    "%cd scikit-learn"
   ]
  },
  {
   "cell_type": "code",
   "execution_count": null,
   "metadata": {
    "colab": {
     "base_uri": "https://localhost:8080/"
    },
    "executionInfo": {
     "elapsed": 3663,
     "status": "ok",
     "timestamp": 1625982181510,
     "user": {
      "displayName": "三澤雅史",
      "photoUrl": "https://lh3.googleusercontent.com/a-/AOh14Gh_ehYwgZ7vTk5mpLIwi2U7OWqeVT9fXZpVW5UgCQ=s64",
      "userId": "14592835272630790536"
     },
     "user_tz": -540
    },
    "id": "YTKDnDfEFszA",
    "outputId": "79bac090-1c1e-43ff-8666-fb453b8946b5"
   },
   "outputs": [
    {
     "name": "stdout",
     "output_type": "stream",
     "text": [
      "Requirement already satisfied: cython in /usr/local/lib/python3.7/dist-packages (0.29.23)\n"
     ]
    }
   ],
   "source": [
    "!pip install cython"
   ]
  },
  {
   "cell_type": "code",
   "execution_count": null,
   "metadata": {
    "id": "Jlp-vSRQFypP"
   },
   "outputs": [],
   "source": [
    "!pip install --verbose --no-build-isolation --editable ."
   ]
  },
  {
   "cell_type": "code",
   "execution_count": 1,
   "metadata": {
    "colab": {
     "base_uri": "https://localhost:8080/"
    },
    "executionInfo": {
     "elapsed": 1883,
     "status": "ok",
     "timestamp": 1626000609431,
     "user": {
      "displayName": "三澤雅史",
      "photoUrl": "https://lh3.googleusercontent.com/a-/AOh14Gh_ehYwgZ7vTk5mpLIwi2U7OWqeVT9fXZpVW5UgCQ=s64",
      "userId": "14592835272630790536"
     },
     "user_tz": -540
    },
    "id": "Iz6w0AS5IYUd",
    "outputId": "2a773735-c277-429c-f5c1-9deddaf55d01"
   },
   "outputs": [
    {
     "name": "stdout",
     "output_type": "stream",
     "text": [
      "\n",
      "System:\n",
      "    python: 3.7.10 (default, May  3 2021, 02:48:31)  [GCC 7.5.0]\n",
      "executable: /usr/bin/python3\n",
      "   machine: Linux-5.4.104+-x86_64-with-Ubuntu-18.04-bionic\n",
      "\n",
      "Python dependencies:\n",
      "       pip: 19.3.1\n",
      "setuptools: 57.0.0\n",
      "   sklearn: 0.22.2.post1\n",
      "     numpy: 1.19.5\n",
      "     scipy: 1.4.1\n",
      "    Cython: 0.29.23\n",
      "    pandas: 1.1.5\n",
      "matplotlib: 3.2.2\n",
      "    joblib: 1.0.1\n",
      "\n",
      "Built with OpenMP: True\n"
     ]
    }
   ],
   "source": [
    "!python -c \"import sklearn; sklearn.show_versions()\""
   ]
  },
  {
   "cell_type": "markdown",
   "metadata": {
    "id": "QllMHwdPYAdc"
   },
   "source": []
  },
  {
   "cell_type": "markdown",
   "metadata": {
    "id": "sSHusahYYBmv"
   },
   "source": [
    "# Note :\n",
    "\n",
    "sklearnの古いバージョン　0.22.2が入っているので、こいつをまずアンインストールする必要がある。"
   ]
  },
  {
   "cell_type": "code",
   "execution_count": 2,
   "metadata": {
    "colab": {
     "base_uri": "https://localhost:8080/"
    },
    "executionInfo": {
     "elapsed": 12462,
     "status": "ok",
     "timestamp": 1626000676823,
     "user": {
      "displayName": "三澤雅史",
      "photoUrl": "https://lh3.googleusercontent.com/a-/AOh14Gh_ehYwgZ7vTk5mpLIwi2U7OWqeVT9fXZpVW5UgCQ=s64",
      "userId": "14592835272630790536"
     },
     "user_tz": -540
    },
    "id": "eyF3bBU0NXec",
    "outputId": "8e9b8123-9063-4c56-b0e0-1e1fceec910d"
   },
   "outputs": [
    {
     "name": "stdout",
     "output_type": "stream",
     "text": [
      "Uninstalling scikit-learn-0.22.2.post1:\n",
      "  Successfully uninstalled scikit-learn-0.22.2.post1\n",
      "Looking in indexes: https://pypi.org/simple, https://pypi.anaconda.org/scipy-wheels-nightly/simple\n",
      "Collecting scikit-learn\n",
      "\u001b[?25l  Downloading https://pypi.anaconda.org/scipy-wheels-nightly/simple/scikit-learn/1.0.dev0/scikit_learn-1.0.dev0-cp37-cp37m-manylinux2010_x86_64.whl (22.9MB)\n",
      "\u001b[K     |████████████████████████████████| 22.9MB 129kB/s \n",
      "\u001b[?25hCollecting threadpoolctl>=2.0.0\n",
      "  Downloading https://files.pythonhosted.org/packages/c6/e8/c216b9b60cbba4642d3ca1bae7a53daa0c24426f662e0e3ce3dc7f6caeaa/threadpoolctl-2.2.0-py3-none-any.whl\n",
      "Requirement already satisfied: scipy>=1.1.0 in /usr/local/lib/python3.7/dist-packages (from scikit-learn) (1.4.1)\n",
      "Requirement already satisfied: numpy>=1.14.6 in /usr/local/lib/python3.7/dist-packages (from scikit-learn) (1.19.5)\n",
      "Requirement already satisfied: joblib>=0.11 in /usr/local/lib/python3.7/dist-packages (from scikit-learn) (1.0.1)\n",
      "Installing collected packages: threadpoolctl, scikit-learn\n",
      "Successfully installed scikit-learn-1.0.dev0 threadpoolctl-2.2.0\n"
     ]
    }
   ],
   "source": [
    "!pip uninstall -y scikit-learn\n",
    "!pip install --pre --extra-index https://pypi.anaconda.org/scipy-wheels-nightly/simple scikit-learn"
   ]
  },
  {
   "cell_type": "code",
   "execution_count": 4,
   "metadata": {
    "executionInfo": {
     "elapsed": 221,
     "status": "ok",
     "timestamp": 1626000814560,
     "user": {
      "displayName": "三澤雅史",
      "photoUrl": "https://lh3.googleusercontent.com/a-/AOh14Gh_ehYwgZ7vTk5mpLIwi2U7OWqeVT9fXZpVW5UgCQ=s64",
      "userId": "14592835272630790536"
     },
     "user_tz": -540
    },
    "id": "7EQs-6sc77Py"
   },
   "outputs": [],
   "source": [
    "import numpy as np\n",
    "from sklearn.model_selection import StratifiedGroupKFold"
   ]
  },
  {
   "cell_type": "code",
   "execution_count": 5,
   "metadata": {
    "colab": {
     "base_uri": "https://localhost:8080/"
    },
    "executionInfo": {
     "elapsed": 238,
     "status": "ok",
     "timestamp": 1626000879205,
     "user": {
      "displayName": "三澤雅史",
      "photoUrl": "https://lh3.googleusercontent.com/a-/AOh14Gh_ehYwgZ7vTk5mpLIwi2U7OWqeVT9fXZpVW5UgCQ=s64",
      "userId": "14592835272630790536"
     },
     "user_tz": -540
    },
    "id": "yEqeBP6K-m2B",
    "outputId": "8651f8b3-7add-4f83-e9d0-ec638762cd2a"
   },
   "outputs": [
    {
     "name": "stdout",
     "output_type": "stream",
     "text": [
      "TRAIN: [1 1 2 2 4 5 5 5 5 8 8]\n",
      "       [0 0 1 1 1 0 0 0 0 0 0]\n",
      " TEST: [3 3 3 6 6 7]\n",
      "       [1 1 1 0 0 0]\n",
      "TRAIN: [3 3 3 4 5 5 5 5 6 6 7]\n",
      "       [1 1 1 1 0 0 0 0 0 0 0]\n",
      " TEST: [1 1 2 2 8 8]\n",
      "       [0 0 1 1 0 0]\n",
      "TRAIN: [1 1 2 2 3 3 3 6 6 7 8 8]\n",
      "       [0 0 1 1 1 1 1 0 0 0 0 0]\n",
      " TEST: [4 5 5 5 5]\n",
      "       [1 0 0 0 0]\n"
     ]
    }
   ],
   "source": [
    "X = np.ones((17, 2))\n",
    "y = np.array([0, 0, 1, 1, 1, 1, 1, 1, 0, 0, 0, 0, 0, 0, 0, 0, 0])\n",
    "groups = np.array([1, 1, 2, 2, 3, 3, 3, 4, 5, 5, 5, 5, 6, 6, 7, 8, 8])\n",
    "cv = StratifiedGroupKFold(n_splits=3)\n",
    "for train_idxs, test_idxs in cv.split(X, y, groups):\n",
    "     print(\"TRAIN:\", groups[train_idxs])\n",
    "     print(\"      \", y[train_idxs])\n",
    "     print(\" TEST:\", groups[test_idxs])\n",
    "     print(\"      \", y[test_idxs])"
   ]
  }
 ],
 "metadata": {
  "colab": {
   "authorship_tag": "ABX9TyMt3Hcr1BE9f2cH9jNQhnAh",
   "collapsed_sections": [],
   "name": "003_StratifiedGroupKFold.ipynb",
   "provenance": []
  },
  "kernelspec": {
   "display_name": "Python 3",
   "language": "python",
   "name": "python3"
  },
  "language_info": {
   "codemirror_mode": {
    "name": "ipython",
    "version": 3
   },
   "file_extension": ".py",
   "mimetype": "text/x-python",
   "name": "python",
   "nbconvert_exporter": "python",
   "pygments_lexer": "ipython3",
   "version": "3.8.8"
  }
 },
 "nbformat": 4,
 "nbformat_minor": 4
}
